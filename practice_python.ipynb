{
  "nbformat": 4,
  "nbformat_minor": 0,
  "metadata": {
    "colab": {
      "name": "practice python",
      "provenance": [],
      "authorship_tag": "ABX9TyPOyf22VIGds9QolOOx38vp",
      "include_colab_link": true
    },
    "kernelspec": {
      "name": "python3",
      "display_name": "Python 3"
    },
    "language_info": {
      "name": "python"
    }
  },
  "cells": [
    {
      "cell_type": "markdown",
      "metadata": {
        "id": "view-in-github",
        "colab_type": "text"
      },
      "source": [
        "<a href=\"https://colab.research.google.com/github/zach3123/zach3123/blob/main/practice_python.ipynb\" target=\"_parent\"><img src=\"https://colab.research.google.com/assets/colab-badge.svg\" alt=\"Open In Colab\"/></a>"
      ]
    },
    {
      "cell_type": "code",
      "execution_count": null,
      "metadata": {
        "colab": {
          "base_uri": "https://localhost:8080/"
        },
        "id": "COmADqSZyw4t",
        "outputId": "0254b161-cd3b-4228-dbd6-760b0b65d3c5"
      },
      "outputs": [
        {
          "output_type": "stream",
          "name": "stdout",
          "text": [
            "The Zen of Python, by Tim Peters\n",
            "\n",
            "Beautiful is better than ugly.\n",
            "Explicit is better than implicit.\n",
            "Simple is better than complex.\n",
            "Complex is better than complicated.\n",
            "Flat is better than nested.\n",
            "Sparse is better than dense.\n",
            "Readability counts.\n",
            "Special cases aren't special enough to break the rules.\n",
            "Although practicality beats purity.\n",
            "Errors should never pass silently.\n",
            "Unless explicitly silenced.\n",
            "In the face of ambiguity, refuse the temptation to guess.\n",
            "There should be one-- and preferably only one --obvious way to do it.\n",
            "Although that way may not be obvious at first unless you're Dutch.\n",
            "Now is better than never.\n",
            "Although never is often better than *right* now.\n",
            "If the implementation is hard to explain, it's a bad idea.\n",
            "If the implementation is easy to explain, it may be a good idea.\n",
            "Namespaces are one honking great idea -- let's do more of those!\n"
          ]
        }
      ],
      "source": [
        "import this"
      ]
    },
    {
      "cell_type": "code",
      "source": [
        "print(\"https://www.youtube.com/watch?v=dQw4w9WgXcQ\")"
      ],
      "metadata": {
        "colab": {
          "base_uri": "https://localhost:8080/"
        },
        "id": "lGjg-fwrzIbl",
        "outputId": "101e87a2-062b-4aa0-c830-9fecbdb60682"
      },
      "execution_count": null,
      "outputs": [
        {
          "output_type": "stream",
          "name": "stdout",
          "text": [
            "https://www.youtube.com/watch?v=dQw4w9WgXcQ\n"
          ]
        }
      ]
    },
    {
      "cell_type": "code",
      "source": [
        "print(55645454/2)"
      ],
      "metadata": {
        "colab": {
          "base_uri": "https://localhost:8080/"
        },
        "id": "6UgKC9tPzauf",
        "outputId": "3fa98a4f-7045-46e7-9d4e-9d20d77e96ad"
      },
      "execution_count": null,
      "outputs": [
        {
          "output_type": "stream",
          "name": "stdout",
          "text": [
            "27822727.0\n"
          ]
        }
      ]
    },
    {
      "cell_type": "code",
      "source": [
        "type(55653453454)"
      ],
      "metadata": {
        "colab": {
          "base_uri": "https://localhost:8080/"
        },
        "id": "YBYg-I9xzkiG",
        "outputId": "7ed0d87c-cbed-4aa0-cba9-391a1bc126ab"
      },
      "execution_count": null,
      "outputs": [
        {
          "output_type": "execute_result",
          "data": {
            "text/plain": [
              "int"
            ]
          },
          "metadata": {},
          "execution_count": 7
        }
      ]
    },
    {
      "cell_type": "code",
      "source": [
        "type(5.5)"
      ],
      "metadata": {
        "colab": {
          "base_uri": "https://localhost:8080/"
        },
        "id": "yQ5JqkGB1CGh",
        "outputId": "aa20877d-1365-454b-bca6-6ea78fcd5adc"
      },
      "execution_count": null,
      "outputs": [
        {
          "output_type": "execute_result",
          "data": {
            "text/plain": [
              "float"
            ]
          },
          "metadata": {},
          "execution_count": 8
        }
      ]
    },
    {
      "cell_type": "code",
      "source": [
        "list3 = list(\"mr ratza\")\n",
        "list1 = list(\"!\" \"@\" \"$\")\n",
        "print(list3 + list1)"
      ],
      "metadata": {
        "colab": {
          "base_uri": "https://localhost:8080/"
        },
        "id": "B7SqBGZT1GIj",
        "outputId": "70f45c74-f4c7-44b1-e033-8519ddb8d187"
      },
      "execution_count": null,
      "outputs": [
        {
          "output_type": "stream",
          "name": "stdout",
          "text": [
            "['m', 'r', ' ', 'r', 'a', 't', 'z', 'a', '!', '@', '$']\n"
          ]
        }
      ]
    },
    {
      "cell_type": "code",
      "source": [
        "numberlist1 = list(\"1\" \"2\" \"3\")\n",
        "numberlist2 = list(\"9\" \"65\" \"7\")\n",
        "print(numberlist1/numberlist2)"
      ],
      "metadata": {
        "colab": {
          "base_uri": "https://localhost:8080/",
          "height": 200
        },
        "id": "rnoQH0-R13jA",
        "outputId": "6bcdfc03-4233-43b4-c35d-e5b252850252"
      },
      "execution_count": null,
      "outputs": [
        {
          "output_type": "error",
          "ename": "TypeError",
          "evalue": "ignored",
          "traceback": [
            "\u001b[0;31m---------------------------------------------------------------------------\u001b[0m",
            "\u001b[0;31mTypeError\u001b[0m                                 Traceback (most recent call last)",
            "\u001b[0;32m<ipython-input-4-58d770e6852a>\u001b[0m in \u001b[0;36m<module>\u001b[0;34m()\u001b[0m\n\u001b[1;32m      1\u001b[0m \u001b[0mnumberlist1\u001b[0m \u001b[0;34m=\u001b[0m \u001b[0mlist\u001b[0m\u001b[0;34m(\u001b[0m\u001b[0;34m\"1\"\u001b[0m \u001b[0;34m\"2\"\u001b[0m \u001b[0;34m\"3\"\u001b[0m\u001b[0;34m)\u001b[0m\u001b[0;34m\u001b[0m\u001b[0;34m\u001b[0m\u001b[0m\n\u001b[1;32m      2\u001b[0m \u001b[0mnumberlist2\u001b[0m \u001b[0;34m=\u001b[0m \u001b[0mlist\u001b[0m\u001b[0;34m(\u001b[0m\u001b[0;34m\"9\"\u001b[0m \u001b[0;34m\"65\"\u001b[0m \u001b[0;34m\"7\"\u001b[0m\u001b[0;34m)\u001b[0m\u001b[0;34m\u001b[0m\u001b[0;34m\u001b[0m\u001b[0m\n\u001b[0;32m----> 3\u001b[0;31m \u001b[0mprint\u001b[0m\u001b[0;34m(\u001b[0m\u001b[0mnumberlist1\u001b[0m\u001b[0;34m/\u001b[0m\u001b[0mnumberlist2\u001b[0m\u001b[0;34m)\u001b[0m\u001b[0;34m\u001b[0m\u001b[0;34m\u001b[0m\u001b[0m\n\u001b[0m",
            "\u001b[0;31mTypeError\u001b[0m: unsupported operand type(s) for /: 'list' and 'list'"
          ]
        }
      ]
    },
    {
      "cell_type": "code",
      "source": [
        "print(1+2+3+9+65)"
      ],
      "metadata": {
        "id": "BP3ddsWP6qcb"
      },
      "execution_count": null,
      "outputs": []
    },
    {
      "cell_type": "code",
      "source": [
        "variable1 = 9999\n",
        "variable2 = 6770\n",
        "variable3=variable1 + variable2 * 5000 \n",
        "print(variable3)"
      ],
      "metadata": {
        "colab": {
          "base_uri": "https://localhost:8080/",
          "height": 200
        },
        "id": "WhZOZ0SrLdCO",
        "outputId": "cdf48bad-710c-4bcd-c405-a3daff20f326"
      },
      "execution_count": null,
      "outputs": [
        {
          "output_type": "error",
          "ename": "TypeError",
          "evalue": "ignored",
          "traceback": [
            "\u001b[0;31m---------------------------------------------------------------------------\u001b[0m",
            "\u001b[0;31mTypeError\u001b[0m                                 Traceback (most recent call last)",
            "\u001b[0;32m<ipython-input-17-752d9ddeb27e>\u001b[0m in \u001b[0;36m<module>\u001b[0;34m()\u001b[0m\n\u001b[1;32m      3\u001b[0m \u001b[0mvariable3\u001b[0m\u001b[0;34m=\u001b[0m\u001b[0mvariable1\u001b[0m \u001b[0;34m+\u001b[0m \u001b[0mvariable2\u001b[0m \u001b[0;34m*\u001b[0m \u001b[0;36m5000\u001b[0m\u001b[0;34m\u001b[0m\u001b[0;34m\u001b[0m\u001b[0m\n\u001b[1;32m      4\u001b[0m \u001b[0mvariable4\u001b[0m\u001b[0;34m=\u001b[0m\u001b[0;34m\"is my answear\"\u001b[0m\u001b[0;34m\u001b[0m\u001b[0;34m\u001b[0m\u001b[0m\n\u001b[0;32m----> 5\u001b[0;31m \u001b[0mprint\u001b[0m\u001b[0;34m(\u001b[0m\u001b[0mvariable3\u001b[0m \u001b[0;34m+\u001b[0m \u001b[0mvariable4\u001b[0m\u001b[0;34m)\u001b[0m\u001b[0;34m\u001b[0m\u001b[0;34m\u001b[0m\u001b[0m\n\u001b[0m",
            "\u001b[0;31mTypeError\u001b[0m: unsupported operand type(s) for +: 'int' and 'str'"
          ]
        }
      ]
    },
    {
      "cell_type": "code",
      "source": [
        "variable1 = 55.5\n",
        "variable2 = 77.6\n",
        "variable3 = variable1 + variable2\n",
        "print(\"my answear is\")\n",
        "print(variable3)\n",
        "print(\"it is\")\n",
        "type(variable3)"
      ],
      "metadata": {
        "colab": {
          "base_uri": "https://localhost:8080/"
        },
        "id": "2tSOH60oQe_v",
        "outputId": "484bb6ac-20e6-4957-ac70-866578257b56"
      },
      "execution_count": null,
      "outputs": [
        {
          "output_type": "stream",
          "name": "stdout",
          "text": [
            "my answear is\n",
            "133.1\n",
            "it is\n"
          ]
        },
        {
          "output_type": "execute_result",
          "data": {
            "text/plain": [
              "float"
            ]
          },
          "metadata": {},
          "execution_count": 31
        }
      ]
    },
    {
      "cell_type": "code",
      "source": [
        "variable1 = 5\n",
        "variable1 = variable1 +5\n",
        "print(variable1)"
      ],
      "metadata": {
        "id": "m1_F5JbFQ0TQ",
        "colab": {
          "base_uri": "https://localhost:8080/"
        },
        "outputId": "850e3f5c-b1c3-4bf3-c186-0c5504737481"
      },
      "execution_count": 2,
      "outputs": [
        {
          "output_type": "stream",
          "name": "stdout",
          "text": [
            "10\n"
          ]
        }
      ]
    },
    {
      "cell_type": "code",
      "source": [
        ""
      ],
      "metadata": {
        "id": "VOqtqVzbRST0"
      },
      "execution_count": null,
      "outputs": []
    }
  ]
}